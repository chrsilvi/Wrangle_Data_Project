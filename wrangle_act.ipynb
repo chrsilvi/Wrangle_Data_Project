{
 "cells": [
  {
   "cell_type": "markdown",
   "metadata": {},
   "source": [
    "## What I'm going to accomplish here ##\n",
    "\n",
    "- Download pre-pulled files from Udacity **done**\n",
    "- Pull the file image_predictions.tsv using the Requests library\n",
    "- Pull Twitter's API to supply the retweent count and favorite count (at minimum) and add that to the data\n",
    "    - Using the tweet IDs in the twitter archive file, query and store each tweet's JSON data using Tweepy\n",
    "    - Store the entire set of JSON data in a file called tweet_json.txt\n",
    "    - Each tweet's data should be written to its own line\n",
    "    - Read this data line by line in a pandas DataFrame with tweet ID, retweet count, and favorite count at minimum\n",
    "- After gathering all of the data, assess them visually and programmatically and find 8 quality and 2 tidiness issues\n",
    "- Make sure they satisfy the Project Motivation to meet specifications\n",
    "- Clean all 10 of those issues and document here\n",
    "- Store the clean DataFrame(s) in a CSV file named twitter_archive_master.csv\n",
    "- Analyze and visualize the data here\n",
    "    - There must be at least 3 insights and 1 visualization\n",
    "- Create a 300-600 word written report called 'wrangle_report.pdf' or 'wrangle_report.html'\n",
    "    - Use this to describe my wrangling efforts\n",
    "- Create a 250 word minimum written report called 'act_report.pdf' or 'act_report.html'\n",
    "    - Use this to communicate the insights and display the visualization from the data\n",
    "\n",
    "For data cleaning purposes, I need to clean:\n",
    "- at least 8 quality issues\n",
    "- at least 2 tidiness issues\n",
    "\n",
    "- REMOVE my Twitter API keys and token from the files before posting"
   ]
  },
  {
   "cell_type": "code",
   "execution_count": 1,
   "metadata": {},
   "outputs": [],
   "source": [
    "import pandas as pd\n",
    "import numpy as np\n",
    "import requests\n",
    "import tweepy\n",
    "import json"
   ]
  },
  {
   "cell_type": "markdown",
   "metadata": {},
   "source": [
    "image_predictions.tsv URL: https://d17h27t6h515a5.cloudfront.net/topher/2017/August/599fd2ad_image-predictions/image-predictions.tsv"
   ]
  },
  {
   "cell_type": "code",
   "execution_count": null,
   "metadata": {},
   "outputs": [],
   "source": []
  }
 ],
 "metadata": {
  "kernelspec": {
   "display_name": "Python 3",
   "language": "python",
   "name": "python3"
  },
  "language_info": {
   "codemirror_mode": {
    "name": "ipython",
    "version": 3
   },
   "file_extension": ".py",
   "mimetype": "text/x-python",
   "name": "python",
   "nbconvert_exporter": "python",
   "pygments_lexer": "ipython3",
   "version": "3.8.5"
  }
 },
 "nbformat": 4,
 "nbformat_minor": 4
}
